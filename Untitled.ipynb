{
 "cells": [
  {
   "cell_type": "code",
   "execution_count": null,
   "id": "cf431733-424c-4191-80fd-cc5d4205432b",
   "metadata": {},
   "outputs": [],
   "source": [
    "import numpy as np\n",
    "import pandas as pd\n",
    "import matplotlib.pyplot as plt\n",
    "from pypfopt import EfficientFrontier, risk_models, expected_returns, plotting\n",
    "from sklearn.ensemble import RandomForestRegressor\n",
    "from sklearn.model_selection import train_test_split\n",
    "\n",
    "# Step 1: Load historical price data\n",
    "data = pd.read_csv(\"stock_prices.csv\", index_col=0, parse_dates=True)\n",
    "returns = data.pct_change().dropna()\n",
    "\n",
    "# Step 2: Use Machine Learning to Predict Expected Returns\n",
    "# Feature engineering (using past returns as features)\n",
    "X = returns.shift(1).dropna()  # Lagged returns as features\n",
    "y = returns.iloc[1:]  # Current returns as target\n",
    "\n",
    "# Train-test split\n",
    "X_train, X_test, y_train, y_test = train_test_split(X, y, test_size=0.2, random_state=42)\n",
    "\n",
    "# Train a Random Forest model\n",
    "model = RandomForestRegressor(n_estimators=100, random_state=42)\n",
    "model.fit(X_train, y_train)\n",
    "\n",
    "# Predict expected returns\n",
    "predicted_returns = model.predict(X_test)\n",
    "predicted_returns = pd.DataFrame(predicted_returns, index=X_test.index, columns=y.columns)\n",
    "\n",
    "# Step 3: Calculate covariance matrix\n",
    "S = risk_models.sample_cov(data)\n",
    "\n",
    "# Step 4: Portfolio Optimization with Constraints\n",
    "ef = EfficientFrontier(predicted_returns.mean(), S)\n",
    "\n",
    "# Add constraints (e.g., no more than 20% in any single stock, at least 10% in MSFT)\n",
    "ef.add_constraint(lambda w: w <= 0.2)  # Max 20% per asset\n",
    "ef.add_constraint(lambda w: w[1] >= 0.1)  # At least 10% in MSFT (assuming MSFT is the second asset)\n",
    "\n",
    "# Optimize for maximal Sharpe ratio\n",
    "weights = ef.max_sharpe()\n",
    "cleaned_weights = ef.clean_weights()\n",
    "\n",
    "# Step 5: Visualize the Efficient Frontier\n",
    "fig, ax = plt.subplots()\n",
    "plotting.plot_efficient_frontier(ef, ax=ax, show_assets=True)\n",
    "plt.title(\"Efficient Frontier\")\n",
    "plt.xlabel(\"Risk (Standard Deviation)\")\n",
    "plt.ylabel(\"Return\")\n",
    "plt.show()\n",
    "\n",
    "# Step 6: Print Portfolio Performance\n",
    "print(\"Optimized Weights:\")\n",
    "print(cleaned_weights)\n",
    "ef.portfolio_performance(verbose=True)"
   ]
  }
 ],
 "metadata": {
  "kernelspec": {
   "display_name": "Python 3 (ipykernel)",
   "language": "python",
   "name": "python3"
  },
  "language_info": {
   "codemirror_mode": {
    "name": "ipython",
    "version": 3
   },
   "file_extension": ".py",
   "mimetype": "text/x-python",
   "name": "python",
   "nbconvert_exporter": "python",
   "pygments_lexer": "ipython3",
   "version": "3.13.0"
  }
 },
 "nbformat": 4,
 "nbformat_minor": 5
}
